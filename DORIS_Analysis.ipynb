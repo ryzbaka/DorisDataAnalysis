{
 "cells": [
  {
   "cell_type": "code",
   "execution_count": 1,
   "metadata": {},
   "outputs": [],
   "source": [
    "import pandas as pd"
   ]
  },
  {
   "cell_type": "code",
   "execution_count": 2,
   "metadata": {},
   "outputs": [],
   "source": [
    "oo=pd.read_csv('2019-8-5-DORIS.csv')"
   ]
  },
  {
   "cell_type": "code",
   "execution_count": 3,
   "metadata": {},
   "outputs": [
    {
     "data": {
      "text/html": [
       "<div>\n",
       "<style scoped>\n",
       "    .dataframe tbody tr th:only-of-type {\n",
       "        vertical-align: middle;\n",
       "    }\n",
       "\n",
       "    .dataframe tbody tr th {\n",
       "        vertical-align: top;\n",
       "    }\n",
       "\n",
       "    .dataframe thead th {\n",
       "        text-align: right;\n",
       "    }\n",
       "</style>\n",
       "<table border=\"1\" class=\"dataframe\">\n",
       "  <thead>\n",
       "    <tr style=\"text-align: right;\">\n",
       "      <th></th>\n",
       "      <th>Unnamed: 0</th>\n",
       "      <th>regno</th>\n",
       "      <th>regdate</th>\n",
       "      <th>party_1</th>\n",
       "      <th>party_2</th>\n",
       "      <th>address</th>\n",
       "      <th>area</th>\n",
       "      <th>deed_type</th>\n",
       "      <th>property_type</th>\n",
       "    </tr>\n",
       "  </thead>\n",
       "  <tbody>\n",
       "    <tr>\n",
       "      <th>0</th>\n",
       "      <td>0</td>\n",
       "      <td>7</td>\n",
       "      <td>01-01-2019</td>\n",
       "      <td>S C KHURANA</td>\n",
       "      <td>AJAY VISHAL</td>\n",
       "      <td>House No. B-3/93,Safdarjung Enclave</td>\n",
       "      <td>100 Sq. Meter</td>\n",
       "      <td>LEASE,LEASE WITH SECURITY UPTO 5 YEARS</td>\n",
       "      <td>Residential</td>\n",
       "    </tr>\n",
       "    <tr>\n",
       "      <th>1</th>\n",
       "      <td>1</td>\n",
       "      <td>11</td>\n",
       "      <td>02-01-2019</td>\n",
       "      <td>RAJESH  KUMAR BHASIN</td>\n",
       "      <td>MIN HO KIM</td>\n",
       "      <td>House No. A1/161 FF,Safdarjung Enclave</td>\n",
       "      <td>2050 Sq. Feet</td>\n",
       "      <td>LEASE,LEASE WITH SECURITY UPTO 5 YEARS</td>\n",
       "      <td>Residential</td>\n",
       "    </tr>\n",
       "    <tr>\n",
       "      <th>2</th>\n",
       "      <td>2</td>\n",
       "      <td>20</td>\n",
       "      <td>02-01-2019</td>\n",
       "      <td>SANDEEP ARVIND</td>\n",
       "      <td>RADHALAKSHMI R</td>\n",
       "      <td>House No. A-1/257 F/F REAR PORTION,Safdarjung ...</td>\n",
       "      <td>1000 Sq. Feet</td>\n",
       "      <td>LEASE,LEASE UPTO 5 YEARS</td>\n",
       "      <td>Residential</td>\n",
       "    </tr>\n",
       "    <tr>\n",
       "      <th>3</th>\n",
       "      <td>3</td>\n",
       "      <td>36</td>\n",
       "      <td>03-01-2019</td>\n",
       "      <td>LIKHA SAAYA THRU ATT MANOJ KUMAR GULATI</td>\n",
       "      <td>KANUKPRIYA  GULATI</td>\n",
       "      <td>House No. FF PROP NO  A-1/62,Safdarjung Enclave</td>\n",
       "      <td>443 Sq. Yard</td>\n",
       "      <td>SALE,SALE WITHIN MC AREA</td>\n",
       "      <td>Residential</td>\n",
       "    </tr>\n",
       "    <tr>\n",
       "      <th>4</th>\n",
       "      <td>4</td>\n",
       "      <td>39</td>\n",
       "      <td>03-01-2019</td>\n",
       "      <td>VISHAL JAIRATH</td>\n",
       "      <td>ITHIKIA HEALTH SCIENCES LLP THRU CHAND RATAN D...</td>\n",
       "      <td>House No. ENTIRE  BASEMENT AND ENTIRE GF, Road...</td>\n",
       "      <td>2000 Sq. Meter</td>\n",
       "      <td>LEASE,LEASE WITH SECURITY UPTO 10 YEARS</td>\n",
       "      <td>Commercial</td>\n",
       "    </tr>\n",
       "  </tbody>\n",
       "</table>\n",
       "</div>"
      ],
      "text/plain": [
       "   Unnamed: 0  regno     regdate                                  party_1  \\\n",
       "0           0      7  01-01-2019                              S C KHURANA   \n",
       "1           1     11  02-01-2019                     RAJESH  KUMAR BHASIN   \n",
       "2           2     20  02-01-2019                           SANDEEP ARVIND   \n",
       "3           3     36  03-01-2019  LIKHA SAAYA THRU ATT MANOJ KUMAR GULATI   \n",
       "4           4     39  03-01-2019                           VISHAL JAIRATH   \n",
       "\n",
       "                                             party_2  \\\n",
       "0                                        AJAY VISHAL   \n",
       "1                                         MIN HO KIM   \n",
       "2                                     RADHALAKSHMI R   \n",
       "3                                 KANUKPRIYA  GULATI   \n",
       "4  ITHIKIA HEALTH SCIENCES LLP THRU CHAND RATAN D...   \n",
       "\n",
       "                                             address            area  \\\n",
       "0                House No. B-3/93,Safdarjung Enclave   100 Sq. Meter   \n",
       "1             House No. A1/161 FF,Safdarjung Enclave   2050 Sq. Feet   \n",
       "2  House No. A-1/257 F/F REAR PORTION,Safdarjung ...   1000 Sq. Feet   \n",
       "3    House No. FF PROP NO  A-1/62,Safdarjung Enclave    443 Sq. Yard   \n",
       "4  House No. ENTIRE  BASEMENT AND ENTIRE GF, Road...  2000 Sq. Meter   \n",
       "\n",
       "                                 deed_type property_type  \n",
       "0   LEASE,LEASE WITH SECURITY UPTO 5 YEARS   Residential  \n",
       "1   LEASE,LEASE WITH SECURITY UPTO 5 YEARS   Residential  \n",
       "2                LEASE,LEASE UPTO 5 YEARS    Residential  \n",
       "3                 SALE,SALE WITHIN MC AREA   Residential  \n",
       "4  LEASE,LEASE WITH SECURITY UPTO 10 YEARS    Commercial  "
      ]
     },
     "execution_count": 3,
     "metadata": {},
     "output_type": "execute_result"
    }
   ],
   "source": [
    "oo.head()"
   ]
  },
  {
   "cell_type": "markdown",
   "metadata": {},
   "source": [
    "## Formatting Date"
   ]
  },
  {
   "cell_type": "code",
   "execution_count": 6,
   "metadata": {},
   "outputs": [],
   "source": [
    "import datetime as dt"
   ]
  },
  {
   "cell_type": "code",
   "execution_count": null,
   "metadata": {},
   "outputs": [],
   "source": [
    "dt.datetime()"
   ]
  },
  {
   "cell_type": "code",
   "execution_count": 13,
   "metadata": {},
   "outputs": [],
   "source": [
    "import datetime as dt\n",
    "def format_dates(x):\n",
    "    year=int(x[-4:])\n",
    "    day=int(x[:2])\n",
    "    month=int(x[3:5])\n",
    "    return dt.datetime(year,month,day)"
   ]
  },
  {
   "cell_type": "code",
   "execution_count": 14,
   "metadata": {},
   "outputs": [],
   "source": [
    "oo['formated_regno']=oo.regdate.apply(format_dates)"
   ]
  },
  {
   "cell_type": "code",
   "execution_count": 18,
   "metadata": {},
   "outputs": [],
   "source": [
    "oo.drop(labels=oo.columns[0],axis=1,inplace=True)"
   ]
  },
  {
   "cell_type": "code",
   "execution_count": 21,
   "metadata": {},
   "outputs": [
    {
     "data": {
      "text/html": [
       "<div>\n",
       "<style scoped>\n",
       "    .dataframe tbody tr th:only-of-type {\n",
       "        vertical-align: middle;\n",
       "    }\n",
       "\n",
       "    .dataframe tbody tr th {\n",
       "        vertical-align: top;\n",
       "    }\n",
       "\n",
       "    .dataframe thead th {\n",
       "        text-align: right;\n",
       "    }\n",
       "</style>\n",
       "<table border=\"1\" class=\"dataframe\">\n",
       "  <thead>\n",
       "    <tr style=\"text-align: right;\">\n",
       "      <th></th>\n",
       "      <th>regno</th>\n",
       "      <th>regdate</th>\n",
       "      <th>party_1</th>\n",
       "      <th>party_2</th>\n",
       "      <th>address</th>\n",
       "      <th>area</th>\n",
       "      <th>deed_type</th>\n",
       "      <th>property_type</th>\n",
       "      <th>formated_regno</th>\n",
       "    </tr>\n",
       "  </thead>\n",
       "  <tbody>\n",
       "    <tr>\n",
       "      <th>0</th>\n",
       "      <td>7</td>\n",
       "      <td>01-01-2019</td>\n",
       "      <td>S C KHURANA</td>\n",
       "      <td>AJAY VISHAL</td>\n",
       "      <td>House No. B-3/93,Safdarjung Enclave</td>\n",
       "      <td>100 Sq. Meter</td>\n",
       "      <td>LEASE,LEASE WITH SECURITY UPTO 5 YEARS</td>\n",
       "      <td>Residential</td>\n",
       "      <td>2019-01-01</td>\n",
       "    </tr>\n",
       "    <tr>\n",
       "      <th>1</th>\n",
       "      <td>11</td>\n",
       "      <td>02-01-2019</td>\n",
       "      <td>RAJESH  KUMAR BHASIN</td>\n",
       "      <td>MIN HO KIM</td>\n",
       "      <td>House No. A1/161 FF,Safdarjung Enclave</td>\n",
       "      <td>2050 Sq. Feet</td>\n",
       "      <td>LEASE,LEASE WITH SECURITY UPTO 5 YEARS</td>\n",
       "      <td>Residential</td>\n",
       "      <td>2019-01-02</td>\n",
       "    </tr>\n",
       "    <tr>\n",
       "      <th>2</th>\n",
       "      <td>20</td>\n",
       "      <td>02-01-2019</td>\n",
       "      <td>SANDEEP ARVIND</td>\n",
       "      <td>RADHALAKSHMI R</td>\n",
       "      <td>House No. A-1/257 F/F REAR PORTION,Safdarjung ...</td>\n",
       "      <td>1000 Sq. Feet</td>\n",
       "      <td>LEASE,LEASE UPTO 5 YEARS</td>\n",
       "      <td>Residential</td>\n",
       "      <td>2019-01-02</td>\n",
       "    </tr>\n",
       "    <tr>\n",
       "      <th>3</th>\n",
       "      <td>36</td>\n",
       "      <td>03-01-2019</td>\n",
       "      <td>LIKHA SAAYA THRU ATT MANOJ KUMAR GULATI</td>\n",
       "      <td>KANUKPRIYA  GULATI</td>\n",
       "      <td>House No. FF PROP NO  A-1/62,Safdarjung Enclave</td>\n",
       "      <td>443 Sq. Yard</td>\n",
       "      <td>SALE,SALE WITHIN MC AREA</td>\n",
       "      <td>Residential</td>\n",
       "      <td>2019-01-03</td>\n",
       "    </tr>\n",
       "    <tr>\n",
       "      <th>4</th>\n",
       "      <td>39</td>\n",
       "      <td>03-01-2019</td>\n",
       "      <td>VISHAL JAIRATH</td>\n",
       "      <td>ITHIKIA HEALTH SCIENCES LLP THRU CHAND RATAN D...</td>\n",
       "      <td>House No. ENTIRE  BASEMENT AND ENTIRE GF, Road...</td>\n",
       "      <td>2000 Sq. Meter</td>\n",
       "      <td>LEASE,LEASE WITH SECURITY UPTO 10 YEARS</td>\n",
       "      <td>Commercial</td>\n",
       "      <td>2019-01-03</td>\n",
       "    </tr>\n",
       "  </tbody>\n",
       "</table>\n",
       "</div>"
      ],
      "text/plain": [
       "   regno     regdate                                  party_1  \\\n",
       "0      7  01-01-2019                              S C KHURANA   \n",
       "1     11  02-01-2019                     RAJESH  KUMAR BHASIN   \n",
       "2     20  02-01-2019                           SANDEEP ARVIND   \n",
       "3     36  03-01-2019  LIKHA SAAYA THRU ATT MANOJ KUMAR GULATI   \n",
       "4     39  03-01-2019                           VISHAL JAIRATH   \n",
       "\n",
       "                                             party_2  \\\n",
       "0                                        AJAY VISHAL   \n",
       "1                                         MIN HO KIM   \n",
       "2                                     RADHALAKSHMI R   \n",
       "3                                 KANUKPRIYA  GULATI   \n",
       "4  ITHIKIA HEALTH SCIENCES LLP THRU CHAND RATAN D...   \n",
       "\n",
       "                                             address            area  \\\n",
       "0                House No. B-3/93,Safdarjung Enclave   100 Sq. Meter   \n",
       "1             House No. A1/161 FF,Safdarjung Enclave   2050 Sq. Feet   \n",
       "2  House No. A-1/257 F/F REAR PORTION,Safdarjung ...   1000 Sq. Feet   \n",
       "3    House No. FF PROP NO  A-1/62,Safdarjung Enclave    443 Sq. Yard   \n",
       "4  House No. ENTIRE  BASEMENT AND ENTIRE GF, Road...  2000 Sq. Meter   \n",
       "\n",
       "                                 deed_type property_type formated_regno  \n",
       "0   LEASE,LEASE WITH SECURITY UPTO 5 YEARS   Residential     2019-01-01  \n",
       "1   LEASE,LEASE WITH SECURITY UPTO 5 YEARS   Residential     2019-01-02  \n",
       "2                LEASE,LEASE UPTO 5 YEARS    Residential     2019-01-02  \n",
       "3                 SALE,SALE WITHIN MC AREA   Residential     2019-01-03  \n",
       "4  LEASE,LEASE WITH SECURITY UPTO 10 YEARS    Commercial     2019-01-03  "
      ]
     },
     "execution_count": 21,
     "metadata": {},
     "output_type": "execute_result"
    }
   ],
   "source": [
    "oo.head()"
   ]
  },
  {
   "cell_type": "code",
   "execution_count": 24,
   "metadata": {},
   "outputs": [],
   "source": [
    "import seaborn as sns"
   ]
  },
  {
   "cell_type": "markdown",
   "metadata": {},
   "source": [
    "# Distribution of Deed Types in Safdarjang Enclave"
   ]
  },
  {
   "cell_type": "code",
   "execution_count": 37,
   "metadata": {},
   "outputs": [
    {
     "data": {
      "image/png": "[encoded data removed]",
      "text/plain": [
       "<Figure size 1440x1440 with 1 Axes>"
      ]
     },
     "metadata": {},
     "output_type": "display_data"
    }
   ],
   "source": [
    "oo.deed_type.value_counts().plot(kind='pie',figsize=(20,20),autopct='%.2f');"
   ]
  },
  {
   "cell_type": "markdown",
   "metadata": {},
   "source": [
    "## Converting all given area to Sq. Meter "
   ]
  },
  {
   "cell_type": "code",
   "execution_count": 39,
   "metadata": {},
   "outputs": [],
   "source": [
    "import re"
   ]
  },
  {
   "cell_type": "code",
   "execution_count": 76,
   "metadata": {},
   "outputs": [],
   "source": [
    "def get_sq_area(x):\n",
    "    strinf=str(x)\n",
    "    try:\n",
    "        value=re.findall('\\d+[.\\d]+',strinf)[0]\n",
    "        if 'yard' in strinf.lower():\n",
    "            value=float(value)*0.836127\n",
    "        if 'feet' in strinf.lower() or 'foot' in strinf.lower():\n",
    "            value= float(value)*0.092903\n",
    "        else:\n",
    "            value=float(value)\n",
    "        return value\n",
    "    except:\n",
    "        pass"
   ]
  },
  {
   "cell_type": "code",
   "execution_count": 79,
   "metadata": {},
   "outputs": [
    {
     "data": {
      "text/html": [
       "<div>\n",
       "<style scoped>\n",
       "    .dataframe tbody tr th:only-of-type {\n",
       "        vertical-align: middle;\n",
       "    }\n",
       "\n",
       "    .dataframe tbody tr th {\n",
       "        vertical-align: top;\n",
       "    }\n",
       "\n",
       "    .dataframe thead th {\n",
       "        text-align: right;\n",
       "    }\n",
       "</style>\n",
       "<table border=\"1\" class=\"dataframe\">\n",
       "  <thead>\n",
       "    <tr style=\"text-align: right;\">\n",
       "      <th></th>\n",
       "      <th>regno</th>\n",
       "      <th>regdate</th>\n",
       "      <th>party_1</th>\n",
       "      <th>party_2</th>\n",
       "      <th>address</th>\n",
       "      <th>area</th>\n",
       "      <th>deed_type</th>\n",
       "      <th>property_type</th>\n",
       "      <th>formated_regno</th>\n",
       "      <th>area(sq. meters)</th>\n",
       "    </tr>\n",
       "  </thead>\n",
       "  <tbody>\n",
       "    <tr>\n",
       "      <th>0</th>\n",
       "      <td>7</td>\n",
       "      <td>01-01-2019</td>\n",
       "      <td>S C KHURANA</td>\n",
       "      <td>AJAY VISHAL</td>\n",
       "      <td>House No. B-3/93,Safdarjung Enclave</td>\n",
       "      <td>100 Sq. Meter</td>\n",
       "      <td>LEASE,LEASE WITH SECURITY UPTO 5 YEARS</td>\n",
       "      <td>Residential</td>\n",
       "      <td>2019-01-01</td>\n",
       "      <td>200.0000</td>\n",
       "    </tr>\n",
       "    <tr>\n",
       "      <th>1</th>\n",
       "      <td>11</td>\n",
       "      <td>02-01-2019</td>\n",
       "      <td>RAJESH  KUMAR BHASIN</td>\n",
       "      <td>MIN HO KIM</td>\n",
       "      <td>House No. A1/161 FF,Safdarjung Enclave</td>\n",
       "      <td>2050 Sq. Feet</td>\n",
       "      <td>LEASE,LEASE WITH SECURITY UPTO 5 YEARS</td>\n",
       "      <td>Residential</td>\n",
       "      <td>2019-01-02</td>\n",
       "      <td>18.5806</td>\n",
       "    </tr>\n",
       "    <tr>\n",
       "      <th>2</th>\n",
       "      <td>20</td>\n",
       "      <td>02-01-2019</td>\n",
       "      <td>SANDEEP ARVIND</td>\n",
       "      <td>RADHALAKSHMI R</td>\n",
       "      <td>House No. A-1/257 F/F REAR PORTION,Safdarjung ...</td>\n",
       "      <td>1000 Sq. Feet</td>\n",
       "      <td>LEASE,LEASE UPTO 5 YEARS</td>\n",
       "      <td>Residential</td>\n",
       "      <td>2019-01-02</td>\n",
       "      <td>18.5806</td>\n",
       "    </tr>\n",
       "    <tr>\n",
       "      <th>3</th>\n",
       "      <td>36</td>\n",
       "      <td>03-01-2019</td>\n",
       "      <td>LIKHA SAAYA THRU ATT MANOJ KUMAR GULATI</td>\n",
       "      <td>KANUKPRIYA  GULATI</td>\n",
       "      <td>House No. FF PROP NO  A-1/62,Safdarjung Enclave</td>\n",
       "      <td>443 Sq. Yard</td>\n",
       "      <td>SALE,SALE WITHIN MC AREA</td>\n",
       "      <td>Residential</td>\n",
       "      <td>2019-01-03</td>\n",
       "      <td>167.2254</td>\n",
       "    </tr>\n",
       "    <tr>\n",
       "      <th>4</th>\n",
       "      <td>39</td>\n",
       "      <td>03-01-2019</td>\n",
       "      <td>VISHAL JAIRATH</td>\n",
       "      <td>ITHIKIA HEALTH SCIENCES LLP THRU CHAND RATAN D...</td>\n",
       "      <td>House No. ENTIRE  BASEMENT AND ENTIRE GF, Road...</td>\n",
       "      <td>2000 Sq. Meter</td>\n",
       "      <td>LEASE,LEASE WITH SECURITY UPTO 10 YEARS</td>\n",
       "      <td>Commercial</td>\n",
       "      <td>2019-01-03</td>\n",
       "      <td>200.0000</td>\n",
       "    </tr>\n",
       "  </tbody>\n",
       "</table>\n",
       "</div>"
      ],
      "text/plain": [
       "   regno     regdate                                  party_1  \\\n",
       "0      7  01-01-2019                              S C KHURANA   \n",
       "1     11  02-01-2019                     RAJESH  KUMAR BHASIN   \n",
       "2     20  02-01-2019                           SANDEEP ARVIND   \n",
       "3     36  03-01-2019  LIKHA SAAYA THRU ATT MANOJ KUMAR GULATI   \n",
       "4     39  03-01-2019                           VISHAL JAIRATH   \n",
       "\n",
       "                                             party_2  \\\n",
       "0                                        AJAY VISHAL   \n",
       "1                                         MIN HO KIM   \n",
       "2                                     RADHALAKSHMI R   \n",
       "3                                 KANUKPRIYA  GULATI   \n",
       "4  ITHIKIA HEALTH SCIENCES LLP THRU CHAND RATAN D...   \n",
       "\n",
       "                                             address            area  \\\n",
       "0                House No. B-3/93,Safdarjung Enclave   100 Sq. Meter   \n",
       "1             House No. A1/161 FF,Safdarjung Enclave   2050 Sq. Feet   \n",
       "2  House No. A-1/257 F/F REAR PORTION,Safdarjung ...   1000 Sq. Feet   \n",
       "3    House No. FF PROP NO  A-1/62,Safdarjung Enclave    443 Sq. Yard   \n",
       "4  House No. ENTIRE  BASEMENT AND ENTIRE GF, Road...  2000 Sq. Meter   \n",
       "\n",
       "                                 deed_type property_type formated_regno  \\\n",
       "0   LEASE,LEASE WITH SECURITY UPTO 5 YEARS   Residential     2019-01-01   \n",
       "1   LEASE,LEASE WITH SECURITY UPTO 5 YEARS   Residential     2019-01-02   \n",
       "2                LEASE,LEASE UPTO 5 YEARS    Residential     2019-01-02   \n",
       "3                 SALE,SALE WITHIN MC AREA   Residential     2019-01-03   \n",
       "4  LEASE,LEASE WITH SECURITY UPTO 10 YEARS    Commercial     2019-01-03   \n",
       "\n",
       "   area(sq. meters)  \n",
       "0          200.0000  \n",
       "1           18.5806  \n",
       "2           18.5806  \n",
       "3          167.2254  \n",
       "4          200.0000  "
      ]
     },
     "execution_count": 79,
     "metadata": {},
     "output_type": "execute_result"
    }
   ],
   "source": [
    "oo.head()"
   ]
  },
  {
   "cell_type": "code",
   "execution_count": 80,
   "metadata": {},
   "outputs": [
    {
     "name": "stderr",
     "output_type": "stream",
     "text": [
      "C:\\Users\\hamza\\AppData\\Local\\Continuum\\anaconda3\\lib\\site-packages\\ipykernel_launcher.py:1: SettingWithCopyWarning: \n",
      "A value is trying to be set on a copy of a slice from a DataFrame.\n",
      "Try using .loc[row_indexer,col_indexer] = value instead\n",
      "\n",
      "See the caveats in the documentation: http://pandas.pydata.org/pandas-docs/stable/indexing.html#indexing-view-versus-copy\n",
      "  \"\"\"Entry point for launching an IPython kernel.\n"
     ]
    }
   ],
   "source": [
    "oo['area(sq. meters)']=oo.area.map(lambda x:get_sq_area(x))"
   ]
  },
  {
   "cell_type": "code",
   "execution_count": 81,
   "metadata": {},
   "outputs": [
    {
     "data": {
      "text/html": [
       "<div>\n",
       "<style scoped>\n",
       "    .dataframe tbody tr th:only-of-type {\n",
       "        vertical-align: middle;\n",
       "    }\n",
       "\n",
       "    .dataframe tbody tr th {\n",
       "        vertical-align: top;\n",
       "    }\n",
       "\n",
       "    .dataframe thead th {\n",
       "        text-align: right;\n",
       "    }\n",
       "</style>\n",
       "<table border=\"1\" class=\"dataframe\">\n",
       "  <thead>\n",
       "    <tr style=\"text-align: right;\">\n",
       "      <th></th>\n",
       "      <th>regno</th>\n",
       "      <th>regdate</th>\n",
       "      <th>party_1</th>\n",
       "      <th>party_2</th>\n",
       "      <th>address</th>\n",
       "      <th>area</th>\n",
       "      <th>deed_type</th>\n",
       "      <th>property_type</th>\n",
       "      <th>formated_regno</th>\n",
       "      <th>area(sq. meters)</th>\n",
       "    </tr>\n",
       "  </thead>\n",
       "  <tbody>\n",
       "    <tr>\n",
       "      <th>0</th>\n",
       "      <td>7</td>\n",
       "      <td>01-01-2019</td>\n",
       "      <td>S C KHURANA</td>\n",
       "      <td>AJAY VISHAL</td>\n",
       "      <td>House No. B-3/93,Safdarjung Enclave</td>\n",
       "      <td>100 Sq. Meter</td>\n",
       "      <td>LEASE,LEASE WITH SECURITY UPTO 5 YEARS</td>\n",
       "      <td>Residential</td>\n",
       "      <td>2019-01-01</td>\n",
       "      <td>100.000000</td>\n",
       "    </tr>\n",
       "    <tr>\n",
       "      <th>1</th>\n",
       "      <td>11</td>\n",
       "      <td>02-01-2019</td>\n",
       "      <td>RAJESH  KUMAR BHASIN</td>\n",
       "      <td>MIN HO KIM</td>\n",
       "      <td>House No. A1/161 FF,Safdarjung Enclave</td>\n",
       "      <td>2050 Sq. Feet</td>\n",
       "      <td>LEASE,LEASE WITH SECURITY UPTO 5 YEARS</td>\n",
       "      <td>Residential</td>\n",
       "      <td>2019-01-02</td>\n",
       "      <td>190.451150</td>\n",
       "    </tr>\n",
       "    <tr>\n",
       "      <th>2</th>\n",
       "      <td>20</td>\n",
       "      <td>02-01-2019</td>\n",
       "      <td>SANDEEP ARVIND</td>\n",
       "      <td>RADHALAKSHMI R</td>\n",
       "      <td>House No. A-1/257 F/F REAR PORTION,Safdarjung ...</td>\n",
       "      <td>1000 Sq. Feet</td>\n",
       "      <td>LEASE,LEASE UPTO 5 YEARS</td>\n",
       "      <td>Residential</td>\n",
       "      <td>2019-01-02</td>\n",
       "      <td>92.903000</td>\n",
       "    </tr>\n",
       "    <tr>\n",
       "      <th>3</th>\n",
       "      <td>36</td>\n",
       "      <td>03-01-2019</td>\n",
       "      <td>LIKHA SAAYA THRU ATT MANOJ KUMAR GULATI</td>\n",
       "      <td>KANUKPRIYA  GULATI</td>\n",
       "      <td>House No. FF PROP NO  A-1/62,Safdarjung Enclave</td>\n",
       "      <td>443 Sq. Yard</td>\n",
       "      <td>SALE,SALE WITHIN MC AREA</td>\n",
       "      <td>Residential</td>\n",
       "      <td>2019-01-03</td>\n",
       "      <td>370.404261</td>\n",
       "    </tr>\n",
       "    <tr>\n",
       "      <th>4</th>\n",
       "      <td>39</td>\n",
       "      <td>03-01-2019</td>\n",
       "      <td>VISHAL JAIRATH</td>\n",
       "      <td>ITHIKIA HEALTH SCIENCES LLP THRU CHAND RATAN D...</td>\n",
       "      <td>House No. ENTIRE  BASEMENT AND ENTIRE GF, Road...</td>\n",
       "      <td>2000 Sq. Meter</td>\n",
       "      <td>LEASE,LEASE WITH SECURITY UPTO 10 YEARS</td>\n",
       "      <td>Commercial</td>\n",
       "      <td>2019-01-03</td>\n",
       "      <td>2000.000000</td>\n",
       "    </tr>\n",
       "  </tbody>\n",
       "</table>\n",
       "</div>"
      ],
      "text/plain": [
       "   regno     regdate                                  party_1  \\\n",
       "0      7  01-01-2019                              S C KHURANA   \n",
       "1     11  02-01-2019                     RAJESH  KUMAR BHASIN   \n",
       "2     20  02-01-2019                           SANDEEP ARVIND   \n",
       "3     36  03-01-2019  LIKHA SAAYA THRU ATT MANOJ KUMAR GULATI   \n",
       "4     39  03-01-2019                           VISHAL JAIRATH   \n",
       "\n",
       "                                             party_2  \\\n",
       "0                                        AJAY VISHAL   \n",
       "1                                         MIN HO KIM   \n",
       "2                                     RADHALAKSHMI R   \n",
       "3                                 KANUKPRIYA  GULATI   \n",
       "4  ITHIKIA HEALTH SCIENCES LLP THRU CHAND RATAN D...   \n",
       "\n",
       "                                             address            area  \\\n",
       "0                House No. B-3/93,Safdarjung Enclave   100 Sq. Meter   \n",
       "1             House No. A1/161 FF,Safdarjung Enclave   2050 Sq. Feet   \n",
       "2  House No. A-1/257 F/F REAR PORTION,Safdarjung ...   1000 Sq. Feet   \n",
       "3    House No. FF PROP NO  A-1/62,Safdarjung Enclave    443 Sq. Yard   \n",
       "4  House No. ENTIRE  BASEMENT AND ENTIRE GF, Road...  2000 Sq. Meter   \n",
       "\n",
       "                                 deed_type property_type formated_regno  \\\n",
       "0   LEASE,LEASE WITH SECURITY UPTO 5 YEARS   Residential     2019-01-01   \n",
       "1   LEASE,LEASE WITH SECURITY UPTO 5 YEARS   Residential     2019-01-02   \n",
       "2                LEASE,LEASE UPTO 5 YEARS    Residential     2019-01-02   \n",
       "3                 SALE,SALE WITHIN MC AREA   Residential     2019-01-03   \n",
       "4  LEASE,LEASE WITH SECURITY UPTO 10 YEARS    Commercial     2019-01-03   \n",
       "\n",
       "   area(sq. meters)  \n",
       "0        100.000000  \n",
       "1        190.451150  \n",
       "2         92.903000  \n",
       "3        370.404261  \n",
       "4       2000.000000  "
      ]
     },
     "execution_count": 81,
     "metadata": {},
     "output_type": "execute_result"
    }
   ],
   "source": [
    "oo.head()"
   ]
  },
  {
   "cell_type": "code",
   "execution_count": 84,
   "metadata": {},
   "outputs": [
    {
     "name": "stderr",
     "output_type": "stream",
     "text": [
      "C:\\Users\\hamza\\AppData\\Local\\Continuum\\anaconda3\\lib\\site-packages\\ipykernel_launcher.py:1: SettingWithCopyWarning: \n",
      "A value is trying to be set on a copy of a slice from a DataFrame\n",
      "\n",
      "See the caveats in the documentation: http://pandas.pydata.org/pandas-docs/stable/indexing.html#indexing-view-versus-copy\n",
      "  \"\"\"Entry point for launching an IPython kernel.\n"
     ]
    }
   ],
   "source": [
    "oo.dropna(inplace=True)"
   ]
  },
  {
   "cell_type": "markdown",
   "metadata": {},
   "source": [
    "## Distribution of Square Meter area of Estate in Safdarjang Enclave"
   ]
  },
  {
   "cell_type": "code",
   "execution_count": 85,
   "metadata": {},
   "outputs": [
    {
     "data": {
      "text/plain": [
       "<matplotlib.axes._subplots.AxesSubplot at 0x1dbaf761b70>"
      ]
     },
     "execution_count": 85,
     "metadata": {},
     "output_type": "execute_result"
    },
    {
     "data": {
      "image/png": "[encoded data removed]",
      "text/plain": [
       "<Figure size 432x288 with 1 Axes>"
      ]
     },
     "metadata": {
      "needs_background": "light"
     },
     "output_type": "display_data"
    }
   ],
   "source": [
    "sns.distplot(oo['area(sq. meters)'])"
   ]
  },
  {
   "cell_type": "markdown",
   "metadata": {},
   "source": [
    "## Residential vs Commercial Listings in Safdarjung Enclave"
   ]
  },
  {
   "cell_type": "code",
   "execution_count": 91,
   "metadata": {},
   "outputs": [
    {
     "data": {
      "text/plain": [
       "<matplotlib.axes._subplots.AxesSubplot at 0x1dbb025d6a0>"
      ]
     },
     "execution_count": 91,
     "metadata": {},
     "output_type": "execute_result"
    },
    {
     "data": {
      "image/png": "[encoded data removed]",
      "text/plain": [
       "<Figure size 432x288 with 1 Axes>"
      ]
     },
     "metadata": {
      "needs_background": "light"
     },
     "output_type": "display_data"
    }
   ],
   "source": [
    "oo.property_type.value_counts().plot(kind='bar')"
   ]
  }
 ],
 "metadata": {
  "kernelspec": {
   "display_name": "Python 3",
   "language": "python",
   "name": "python3"
  },
  "language_info": {
   "codemirror_mode": {
    "name": "ipython",
    "version": 3
   },
   "file_extension": ".py",
   "mimetype": "text/x-python",
   "name": "python",
   "nbconvert_exporter": "python",
   "pygments_lexer": "ipython3",
   "version": "3.7.3"
  }
 },
 "nbformat": 4,
 "nbformat_minor": 2
}
